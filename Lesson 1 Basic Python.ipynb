{
 "cells": [
  {
   "cell_type": "markdown",
   "metadata": {},
   "source": [
    "# Introduction to Python - Pythonl介紹"
   ]
  },
  {
   "cell_type": "markdown",
   "metadata": {},
   "source": [
    "## Learning objectives 學習目標\n",
    "\n",
    "In this 1.5-hour lesson, we will learn some basics of Python programming together.\n",
    "本節課課長為1.5小時.我們將一起學習基本Python編程  \n",
    "\n",
    "After the end of the lesson, you should be familiar the following:-    \n",
    "+ How to print out message in Python\n",
    "+ Variable declaration and basic types\n",
    "+ Basic arithmatic operations  \n",
    "+ Logical expression and operations in programming  \n",
    "+ Basic conditional statements - if/else-if/else  \n",
    "+ Basic loop control - while-loop / for-loop  \n",
    "+ Understand the structure of a program and write a simple Python program on your own  \n",
    "\n",
    "完成本節課堂,你將會對以下有更深的認識:-\n",
    "+ 如何在Python中打印訊息\n",
    "+ 宣告變數和變數的基本種類\n",
    "+ 基本運算\n",
    "+ 邏輯的表達和運算\n",
    "+ 基本條件語法 - if / else-if / else\n",
    "+ 基本迴圈控制 - while-loop / for-loop\n",
    "+ 明白程式的基本結構和自行編寫簡單程式\n"
   ]
  },
  {
   "cell_type": "code",
   "execution_count": null,
   "metadata": {},
   "outputs": [],
   "source": [
    "### 1.0 Python Programming Environment Python編程環境"
   ]
  },
  {
   "cell_type": "markdown",
   "metadata": {},
   "source": [
    "### 1.1 Use print() for output 使用print() 列印結果\n",
    "\n",
    "To use Python to output something meaningful to the user, use \"print()\". Now print a \"Hello World\" to the world of programming!  \n",
    "在\"print()\"中放入你要印的東西，比如 print(\"Hello World\")。說聲 Hello World，跟程式的世界打聲招呼吧！"
   ]
  },
  {
   "cell_type": "code",
   "execution_count": null,
   "metadata": {},
   "outputs": [],
   "source": [
    "# This is a comment. 這是註釋\n",
    "# Note that anything after the \"#\" character is not compiled and executed by Python 留意任何開首有井號\"#\"的句子均不會被Python編譯和執行\n",
    "\n",
    "# Enter \"Hello World!\" in beetween the brackets in print(). 於print()的括號中間輸入\"Hello World!\"\n",
    "print()    \n",
    "\n",
    "# Press Ctrl-Enter key to run this cell 按Ctrl-Enter鍵執行本節"
   ]
  },
  {
   "cell_type": "markdown",
   "metadata": {},
   "source": [
    "You can print multiple lines with the contents you like. Feel free to type and change the print lines!  \n",
    "你甚至可連續打印幾行. 請隨便更改以下列印的內容吧!"
   ]
  },
  {
   "cell_type": "code",
   "execution_count": null,
   "metadata": {},
   "outputs": [],
   "source": [
    "print(\"first line\")\n",
    "print(\"second line\")\n",
    "print(\"third line\")\n",
    "# You can add more line below and above too!"
   ]
  },
  {
   "cell_type": "markdown",
   "metadata": {},
   "source": [
    "The contents of \"print()\" can be variable, string, number, etc.  \n",
    "\"print()\" 的內容可以是變數(Variable), 字串(String) 或是數字(Number)"
   ]
  },
  {
   "cell_type": "markdown",
   "metadata": {},
   "source": [
    "### 1.2 Using Python as Calculator 將Python變成計算機\n",
    "\n",
    "Learn the following arithmatic operations in Python 以下是Python的四則運算  \n",
    ">+: addition 加  \n",
    ">-: substration 減  \n",
    ">*: multiplication 乘  \n",
    ">/: division 除  "
   ]
  },
  {
   "cell_type": "code",
   "execution_count": null,
   "metadata": {},
   "outputs": [],
   "source": [
    "1+2"
   ]
  },
  {
   "cell_type": "code",
   "execution_count": null,
   "metadata": {},
   "outputs": [],
   "source": [
    "30 - 4*2   "
   ]
  },
  {
   "cell_type": "code",
   "execution_count": null,
   "metadata": {},
   "outputs": [],
   "source": [
    "60 / 9"
   ]
  },
  {
   "cell_type": "markdown",
   "metadata": {},
   "source": [
    ">%: get the remainder of division 計算餘數  \n",
    ">//: discard the decimal parts of the dividand 將商數的小數點移除\n",
    "\n",
    "The brackets '()' can also be applied in the calculation. 括號也能用到哦!"
   ]
  },
  {
   "cell_type": "code",
   "execution_count": null,
   "metadata": {},
   "outputs": [],
   "source": [
    "70%(11+1)"
   ]
  },
  {
   "cell_type": "code",
   "execution_count": null,
   "metadata": {},
   "outputs": [],
   "source": [
    "70//11"
   ]
  },
  {
   "cell_type": "code",
   "execution_count": null,
   "metadata": {},
   "outputs": [],
   "source": [
    "# 3 to the power of 6, i.e. multiply 3 by itself 6 times, use ** \n",
    "# 計算次方, 用**. 如以下計算3自乘6次\n",
    "3**6"
   ]
  },
  {
   "cell_type": "markdown",
   "metadata": {},
   "source": [
    "### 1.3 Variables 變數\n",
    "A variable is a container storing a values. The equal sign (=) is used to assign a value to a variable  \n",
    "變數(Variable)是把資料儲存起來的容器. 用等號(=)賦予變數一個值"
   ]
  },
  {
   "cell_type": "code",
   "execution_count": null,
   "metadata": {},
   "outputs": [],
   "source": [
    "# For example, use apple and orange to denote the unit price of an apple and an orange in supermarket.  \n",
    "# 例如用apple 和orange來代表一顆蘋果和一顆橙在超市賣的價錢\n",
    "apple = 3\n",
    "orange = 4\n",
    "\n",
    "# Try to run this cell. Have you seen any outputs? "
   ]
  },
  {
   "cell_type": "code",
   "execution_count": null,
   "metadata": {},
   "outputs": [],
   "source": [
    "# Suppose we want to buy 10 apples, how can we calculate in Python? \n",
    "# 假如我們想買10個蘋果, 如何在Python計算呢?\n",
    "\n",
    "#### Your code here (1 Line) ####\n",
    "apple"
   ]
  },
  {
   "cell_type": "code",
   "execution_count": null,
   "metadata": {},
   "outputs": [],
   "source": [
    "# Now your mum wants you to buy 7 apples and 4 oranges. \n",
    "# 現在媽媽想我買7個蘋果和4個橙.\n",
    "\n",
    "#### Your code here (1 Line) ####\n"
   ]
  },
  {
   "cell_type": "markdown",
   "metadata": {},
   "source": [
    "You can assign string to variables too!  \n",
    "你甚至可將字串賦予變數"
   ]
  },
  {
   "cell_type": "code",
   "execution_count": null,
   "metadata": {},
   "outputs": [],
   "source": [
    "my_name = \"Tony Lai\"\n",
    "your_name = \"Thomas Chan\"\n",
    "\n",
    "print(my_name)\n",
    "print(your_name)\n",
    "\n",
    "# Change the above and try to print out your name or your best-friend's"
   ]
  },
  {
   "cell_type": "markdown",
   "metadata": {},
   "source": [
    "You can use arithmatic operations on the variables, then print out the result!  \n",
    "你也可將變數直接用來做運算, 之後將結果列印出來."
   ]
  },
  {
   "cell_type": "code",
   "execution_count": null,
   "metadata": {},
   "outputs": [],
   "source": [
    "width = 3\n",
    "height = 4\n",
    "area = width * height\n",
    "print(area)"
   ]
  },
  {
   "cell_type": "code",
   "execution_count": null,
   "metadata": {},
   "outputs": [],
   "source": [
    "# Now try to calculate the area of a triangle using the width and height as below:\n",
    "# 現在試試用以下的底長和高,求一三角形之面積.\n",
    "base_width = 10\n",
    "height = 16\n",
    "\n",
    "#### Your code here (1 Line) ####\n",
    "area =                  # what is the formula for triangle?\n",
    "\n",
    "print(\"Area of triangle = \", area)"
   ]
  },
  {
   "cell_type": "markdown",
   "metadata": {},
   "source": [
    "You can also assign \"None\" to a variable, which means \"empty\"!  \n",
    "你也可賦予\"None\"值給變數. 顧名思義, \"None\"解作\"空空如也\"(empty)的意思!"
   ]
  },
  {
   "cell_type": "code",
   "execution_count": null,
   "metadata": {},
   "outputs": [],
   "source": [
    "my_pocket_money = None\n",
    "\n",
    "print(my_pocket_money) # poor you!"
   ]
  },
  {
   "cell_type": "markdown",
   "metadata": {},
   "source": [
    "Variable can store data and values. But data has different types. For examples:  \n",
    "變數雖然能儲存資料，但資料有很多種類型、所以就會有資料型態(Type). 例如：  \n",
    "a = 123 (Integer 整數)  \n",
    "b = \"456\" / 'happy house' (String 字串)  \n",
    "c = 8.70 (Float 浮點數)  \n",
    "\n",
    "To check the type of a variable, use **type(variable name)** command.  \n",
    "要檢查某一變數的型態,可用 **type(變數名稱)**來獲得."
   ]
  },
  {
   "cell_type": "code",
   "execution_count": null,
   "metadata": {},
   "outputs": [],
   "source": [
    "# create a variable and assign a value to it, then use type() to check its data type.\n",
    "#### Your code here (1 Line) ####\n",
    "variable123 = 17/12\n",
    "\n",
    "print(variable123)\n",
    "type(variable123)"
   ]
  },
  {
   "cell_type": "markdown",
   "metadata": {},
   "source": [
    "### 1.4 Basic Math Functions 基本數學函數\n",
    "\n",
    "Could you guess what the following math functions in Python calculate? 試猜猜以下Python裡一些數學函數的功能?\n",
    "> abs(A)  \n",
    "> min(A, B, C)  \n",
    "> max(A, B)  \n",
    "> floor(B)  \n",
    "> pow(A, B)  "
   ]
  },
  {
   "cell_type": "code",
   "execution_count": null,
   "metadata": {},
   "outputs": [],
   "source": [
    "### Try them here ###\n",
    "A = None\n",
    "B = None\n",
    "\n",
    "abs(A)\n"
   ]
  },
  {
   "cell_type": "markdown",
   "metadata": {},
   "source": [
    "### 1.5 Your first simple Python program 你的第一個Python程序\n",
    "\n",
    "Now you have master the basic. You should be able to write a simple program on your own. Let's try it out!  \n",
    "現在你已掌握基本Python了. 你應該可以寫一個簡單的程序.  \n",
    "\n",
    "This simple program will ask user to input two numbers and store in the variables A and B respectively. Then the program will tell the user which number is bigger. \n",
    "這簡單的程序會詢問使用者輸入兩個數字,分別存入變數A和B內,之後會計算出哪一數目較大."
   ]
  },
  {
   "cell_type": "code",
   "execution_count": null,
   "metadata": {},
   "outputs": [],
   "source": [
    "#### Your code here (about 3 - 4 lines) ####\n",
    "print(\"Give me one value, A:\")\n",
    "A = input()  # hints: you can use input() to get the values for A and B\n",
    "\n",
    "# Now ask user to get the second value, and store it in a variable B.\n",
    "\n",
    "print(\"The bigger value is: \")   # hints: you can use the math function max to tell which is the bigger value\n",
    "print()                          # Your code here (~1 Line)"
   ]
  },
  {
   "cell_type": "markdown",
   "metadata": {},
   "source": [
    "**Congradulation!** You are learning fast! Do you realise you use a math function to determine the bigger value between the two? You can actually write a conditional statement to tell the program to make decision.  \n",
    "  \n",
    "**恭喜你!**你學得很快!你有沒有發現剛才你用數學函數去幫助你判斷哪一數字較大?其實你可以寫一個條件語句去讓程式做決定."
   ]
  },
  {
   "cell_type": "markdown",
   "metadata": {},
   "source": [
    "### 1.6 Boolean Expressions 布朗表示式\n",
    "\n",
    "We use \"Boolean expressions\" to express something that is \"True\" or not true (i.e. \"False\") in programming.\n",
    "在程式世界我們用\"布朗表示式\"來表達 **\"是\"** 與 **\"非\"**\n",
    "\n",
    "For comparison between two things, we can use the following inequalities to establish the conditions we need. \n",
    "我們用以下方式來比較兩項變數. \n",
    "> A > B      \n",
    "> A >= B     \n",
    "> A < B      \n",
    "> A <= B     \n",
    "> A == B       \n",
    "> A != B     \n",
    "\n",
    "The above expressions will return either \"True\" or \"False\" only  \n",
    "以上結果只有True / False 兩種"
   ]
  },
  {
   "cell_type": "code",
   "execution_count": null,
   "metadata": {},
   "outputs": [],
   "source": [
    "### Exercise ###\n",
    "### Can you guess the outcome of the following comparison on these variables?\n",
    "A = 100\n",
    "B = 171\n",
    "C = 3.1415\n",
    "D = \"abcd\"\n",
    "E = \"191.3\"\n",
    "F = \"0\"\n",
    "\n",
    "print(A <= B)           ## Write your anser here >\n",
    "print(B > C)            ## Write your anser here >\n",
    "print(A > B * C)        ## Write your anser here >\n",
    "print(D != E)           ## Write your anser here >\n",
    "print(E > F)            ## Write your anser here >\n",
    "\n",
    "### You can try to change the values of the variables or the boolean operations above at your wish! ###"
   ]
  },
  {
   "cell_type": "markdown",
   "metadata": {},
   "source": [
    "#### Boolean Operators 布朗運算子\n",
    "\n",
    "3 more boolean operators are used commonly in programming, namely  \n",
    "以下也是編程常用的布朗運算子:\n",
    "> not  \n",
    "> and  \n",
    "> or  \n",
    "\n",
    "'NOT' (boolean) will reverse the value of a boolean  \n",
    "'NOT' (布朗數) 會將該布朗數值逆轉\n",
    ">not True  = False  \n",
    ">not False = True  \n",
    "\n",
    "'AND' and 'OR' two booleans will relate the two together.  \n",
    "'AND' 和 'OR' 則把兩個布朗數關聯起來 \n",
    ">True and True   = True  \n",
    ">True and False  = False  \n",
    ">False and True  = False  \n",
    ">False and False = False  \n",
    "  \n",
    ">True or True   = True  \n",
    ">True or False  = True  \n",
    ">False or True  = True  \n",
    ">False or False = False  "
   ]
  },
  {
   "cell_type": "code",
   "execution_count": null,
   "metadata": {},
   "outputs": [],
   "source": [
    "### Now try to run the following\n",
    "X = True\n",
    "Y = False\n",
    "P = 1\n",
    "Q = 0\n",
    "\n",
    "print(not X)\n",
    "print(X and Y)\n",
    "print(P or Q)\n",
    "\n",
    "### Feel free to change the values above and try!"
   ]
  },
  {
   "cell_type": "markdown",
   "metadata": {},
   "source": [
    "You may realise that in Python, 'True' also equal to '1' and 'False' equal to '0'.  \n",
    "你或許己經發現, 'True'==1 和 'False'==0!"
   ]
  },
  {
   "cell_type": "markdown",
   "metadata": {},
   "source": [
    "### 1.7 Conditional Statements - if / else-if / else 條件語句 \n",
    "\n",
    "Sometimes it is useful to make a logical decision before we execute it. In fact, in our daily lifes, we always have to make such judgement, e.g.  \n",
    "有時我們希望執行一件工作前能做邏輯判斷. 事實是, 在日常生活中我們經常要做這些決定:\n",
    "\n",
    "+ If I haven't finished all the homework I can't play PS4\n",
    "+ My dad will buy me a gift if my exam result is above 90/100\n",
    "+ 未做完所有功課,便不能玩PS4\n",
    "+ 如我考試成績達90/100或以上, 爸爸便會送我一份禮物作獎勵\n",
    "\n",
    "Each of the statement above has a condition. What are they?  \n",
    "以上每個例子均有一個達成條件,是什麼?\n",
    "\n",
    "--------------------------------\n",
    "\n",
    "In programming, we also want a computer to have such ability to make judgement. We use the following statement to get the job done.\n",
    "\n",
    "+ If-then statement: if (condition) then (do something)  \n",
    "\n",
    "我們用以下語法去令電腦判斷是否達成某一條件,才去執行事情.  \n",
    "+ 如果if (條件成立) then (執行某事)\n"
   ]
  },
  {
   "cell_type": "code",
   "execution_count": null,
   "metadata": {
    "scrolled": false
   },
   "outputs": [],
   "source": [
    "# Syntax of if statement\n",
    "#if condition:\n",
    "#    do_something \n",
    "    \n",
    "if 4 < 3:                                   # Condition part. The key word 'if' is followed by the condition and :\n",
    "    print(\"Yes 4 must be bigger than 3!\")   # Action part. If the condition is valid, print the sentence.\n",
    "                                            # Note that the print line is indented! This is very important in Python!\n",
    "    print(\"table\")\n",
    "# Now try to execute the above."
   ]
  },
  {
   "cell_type": "markdown",
   "metadata": {},
   "source": [
    "Sometimes it is useful to handle multiple conditions and execute only one of them. In such case, we add an 'else' statement to the end in order to handle all the cases except the first condition. To handle some complicated conditions, we can even use a nested 'if-else-if statements'.  \n",
    "當需要考慮多項條件時,我們會用上else-if 來處理不同條件的情況. 我們亦會用上else來函蓋剩餘的條件.\n",
    "\n",
    "-----------------------\n",
    "\n",
    "if (condition):\n",
    "    (do something 1)  \n",
    "elif (condition 2) then  \n",
    "    (do something 2)  \n",
    "elif (condition 3) then  \n",
    "(do something 3)  \n",
    "else (do something 4)"
   ]
  },
  {
   "cell_type": "code",
   "execution_count": null,
   "metadata": {},
   "outputs": [],
   "source": [
    "### Exercise 1.7a ###\n",
    "\n",
    "# Can you tell the difference between the outcomes of the two pieces of codes below?\n",
    "# 以下兩段程式碼執行結果有什麼不同?\n",
    "\n",
    "#========== Code A ==============#\n",
    "time_now = 9\n",
    "\n",
    "if time_now > 7:\n",
    "    print(\"i wake up\")\n",
    "\n",
    "if time_now > 8:\n",
    "    print(\"I have breakfast\")\n",
    "    \n",
    "if time_now > 12:\n",
    "    print(\"I go out and meet my friend\")\n",
    "#================================#\n",
    "\n",
    "print(\"============ separator ===============\")\n",
    "\n",
    "#========== Code A ==============#\n",
    "time_now = 9\n",
    "\n",
    "if time_now > 7:\n",
    "    print(\"i wake up\")\n",
    "\n",
    "elif time_now > 8:\n",
    "    print(\"I have breakfast\")\n",
    "    \n",
    "elif time_now > 12:\n",
    "    print(\"I go out and meet my friend\")\n",
    "\n",
    "#================================#"
   ]
  },
  {
   "cell_type": "code",
   "execution_count": null,
   "metadata": {},
   "outputs": [],
   "source": [
    "### Exercise 1.7b ###\n",
    "# Syntax of if-else-if statement\n",
    "#if condition1: \n",
    "#    do_something1\n",
    "#elif condition2:\n",
    "#    do_something2\n",
    "#...\n",
    "#else:\n",
    "#    do_something_n\n",
    "\n",
    "# The following code tries to find out what day is today and determine what I do respectively. \n",
    "today = \"Monday\"\n",
    "time = 15\n",
    "\n",
    "if today == \"Monday\":\n",
    "    print(\"I go swimming\")\n",
    "elif today == \"Tuesday\":\n",
    "    print(\"I go hiking\")\n",
    "elif today == \"Wednesday\":\n",
    "    print(\"I go running\")\n",
    "elif today==\"Sunday\":\n",
    "    print (\"I go sleeping\")\n",
    "#else:\n",
    "    #print(\"I stay at home\")\n",
    "    \n",
    "# Try execute above statements and expect which line is the final output. If you have time, try to complete the cases\n",
    "# for the rest of the days in the week"
   ]
  },
  {
   "cell_type": "markdown",
   "metadata": {},
   "source": [
    "You will find that:\n",
    "\n",
    "+ Indent is really important in the if-statement\n",
    "+ In each if / nested-if structure, only ONE else is allowed, which has to be the final one.\n",
    "+ 'elif' means 'else if'. It is a reserved word in Python (i.e. you can't name a variable with 'elif')\n",
    "+ 'elif' and 'else' make sure that the statements will be mutually exclusive and be executed only once.\n",
    "\n"
   ]
  },
  {
   "cell_type": "markdown",
   "metadata": {},
   "source": [
    "### 1.8 Loop 迴圈\n",
    "\n",
    "A simple program runs sequentially from top-most line to the buttom one by one. However, sometimes it is desirable to continuously execute a segment of the programme and exit until a condition is fulfilled. In programming, we call this a 'Loop'.\n",
    "通常一個簡單的程式會由最開首一行開始執行直至最尾.然而,為了達到某些效果,我們會想程式在中途不段重覆執行,直至符合某些條件來打斷重覆,並繼續執行餘下的程式碼.\n",
    "\n",
    "We will learn two types of loop, **\"while loop\"** and **\"for loop\"**.\n",
    "我們會學兩個常用的迴圈, **\"while loop\"** 和 **\"for loop\"**\n",
    "\n",
    "-----------------------------------\n",
    "\n",
    "Syntax of while loop\n",
    "\n",
    "while (condition of loop):  \n",
    "&nbsp;&nbsp;&nbsp;&nbsp;&nbsp;&nbsp;do something in the loop  \n",
    "&nbsp;&nbsp;&nbsp;&nbsp;&nbsp;&nbsp;(set a mechanism to exit the loop once the job in the loop is done)  \n",
    "\n",
    "Let's see the following example."
   ]
  },
  {
   "cell_type": "code",
   "execution_count": null,
   "metadata": {},
   "outputs": [],
   "source": [
    "n = 0                  # initial condition of n\n",
    "\n",
    "while n < 10:          # check if n is smaller than 10. If so, run the loop\n",
    "    print(n)           # print out the value of n in the loop\n",
    "    n = n + 1          # update the value of n in each round in the loop. Go back to the beginning of the loop.\n",
    "    \n",
    "### Run the above code. You should expect seeing 0 to 9 being printed one by one."
   ]
  },
  {
   "cell_type": "code",
   "execution_count": null,
   "metadata": {},
   "outputs": [],
   "source": []
  }
 ],
 "metadata": {
  "kernelspec": {
   "display_name": "Python 3",
   "language": "python",
   "name": "python3"
  },
  "language_info": {
   "codemirror_mode": {
    "name": "ipython",
    "version": 3
   },
   "file_extension": ".py",
   "mimetype": "text/x-python",
   "name": "python",
   "nbconvert_exporter": "python",
   "pygments_lexer": "ipython3",
   "version": "3.6.4"
  }
 },
 "nbformat": 4,
 "nbformat_minor": 2
}
